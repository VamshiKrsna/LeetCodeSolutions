{
 "cells": [
  {
   "cell_type": "code",
   "execution_count": 10,
   "id": "5d2d03c5",
   "metadata": {},
   "outputs": [
    {
     "name": "stdout",
     "output_type": "stream",
     "text": [
      "[2, 10, 17, 7, 8, 11, 1, 10, 15]\n",
      "15\n"
     ]
    }
   ],
   "source": [
    "accounts = [[2,8,7],[7,1,3],[1,9,5]] \n",
    "res = []\n",
    "for i in range(len(accounts)):\n",
    "    sum1 = 0\n",
    "    for j in range(len(accounts[i])):\n",
    "        sum1 += accounts[i][j]\n",
    "        res.append(sum1)\n",
    "for i in range(len(res)):\n",
    "    max = res[i]\n",
    "    if res[i] > max:\n",
    "        max = res[i]\n",
    "\n",
    "print(res)\n",
    "print(max)"
   ]
  },
  {
   "cell_type": "code",
   "execution_count": 15,
   "id": "c99ab774",
   "metadata": {},
   "outputs": [
    {
     "name": "stdout",
     "output_type": "stream",
     "text": [
      "[17, 11, 15]\n",
      "17\n"
     ]
    }
   ],
   "source": [
    "accounts = [[2,8,7],[7,1,3],[1,9,5]] \n",
    "res = []\n",
    "for i in range(len(accounts)):\n",
    "    sum1 = 0\n",
    "    for j in range(len(accounts[i])):\n",
    "        sum1 += accounts[i][j]\n",
    "    res.append(sum1)\n",
    "\n",
    "max_item = 0\n",
    "\n",
    "for i in res:\n",
    "    if i > max_item:\n",
    "        max_item = i\n",
    "    \n",
    "print(res)\n",
    "print(max_item)"
   ]
  },
  {
   "cell_type": "code",
   "execution_count": null,
   "id": "8b3ff2da",
   "metadata": {},
   "outputs": [],
   "source": []
  }
 ],
 "metadata": {
  "kernelspec": {
   "display_name": "Python 3 (ipykernel)",
   "language": "python",
   "name": "python3"
  },
  "language_info": {
   "codemirror_mode": {
    "name": "ipython",
    "version": 3
   },
   "file_extension": ".py",
   "mimetype": "text/x-python",
   "name": "python",
   "nbconvert_exporter": "python",
   "pygments_lexer": "ipython3",
   "version": "3.9.13"
  }
 },
 "nbformat": 4,
 "nbformat_minor": 5
}
